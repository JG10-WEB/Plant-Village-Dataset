{
  "nbformat": 4,
  "nbformat_minor": 0,
  "metadata": {
    "colab": {
      "name": "Dl_potato_project.ipynb",
      "provenance": []
    },
    "kernelspec": {
      "name": "python3",
      "display_name": "Python 3"
    },
    "language_info": {
      "name": "python"
    },
    "accelerator": "GPU"
  },
  "cells": [
    {
      "cell_type": "code",
      "source": [
        "from google.colab import drive\n",
        "drive.mount('/content/drive')"
      ],
      "metadata": {
        "colab": {
          "base_uri": "https://localhost:8080/"
        },
        "id": "TwB10o2thMzR",
        "outputId": "a5d68846-27bd-4888-8526-a9cabeede07f"
      },
      "execution_count": null,
      "outputs": [
        {
          "output_type": "stream",
          "name": "stdout",
          "text": [
            "Mounted at /content/drive\n"
          ]
        }
      ]
    },
    {
      "cell_type": "code",
      "execution_count": null,
      "metadata": {
        "id": "Lc4KJsH3gY-g"
      },
      "outputs": [],
      "source": [
        "import os\n",
        "import shutil\n",
        "import glob\n",
        "import cv2\n",
        "import numpy as np\n",
        "import pandas as pd\n",
        "\n",
        "import tensorflow as tf\n",
        "from tensorflow.keras.models import Sequential, Model\n",
        "from tensorflow.keras.layers import *\n",
        "from tensorflow.keras.optimizers import *\n",
        "from tensorflow.keras.applications import *\n",
        "from tensorflow.keras.callbacks import *\n",
        "from tensorflow.keras.initializers import *\n",
        "from tensorflow.keras.preprocessing.image import ImageDataGenerator"
      ]
    },
    {
      "cell_type": "code",
      "source": [
        "# Initializing constant parameters \n",
        "IMAGE_SIZE = 256\n",
        "BATCH_SIZE = 32\n",
        "CHANNELS = 3\n",
        "EPOCHS = 50"
      ],
      "metadata": {
        "id": "mK2nvt7dhR0m"
      },
      "execution_count": null,
      "outputs": []
    },
    {
      "cell_type": "code",
      "source": [
        "batch_size = 32\n",
        "train_input_shape = (256, 256, 3)\n",
        "n_classes = 3\n",
        "\n",
        "train_datagen = ImageDataGenerator(validation_split=0.2,\n",
        "                                   rescale=1./255.,\n",
        "                                   rotation_range=15,\n",
        "                                   #width_shift_range=0.5,\n",
        "                                   #height_shift_range=0.5,\n",
        "                                   shear_range=0.1,\n",
        "                                   zoom_range=0.5,\n",
        "                                   #horizontal_flip=True,\n",
        "                                   #vertical_flip=True,\n",
        "                                  )\n",
        "\n",
        "train_generator = train_datagen.flow_from_directory(directory=\"/content/drive/MyDrive/dl_potato/train\",\n",
        "                                                    class_mode='categorical',\n",
        "                                                    target_size=train_input_shape[0:2],\n",
        "                                                    batch_size=batch_size,\n",
        "                                                    subset=\"training\",\n",
        "                                                    shuffle=True\n",
        "                                                   )\n",
        "\n",
        "valid_generator = train_datagen.flow_from_directory(directory=\"/content/drive/MyDrive/dl_potato/test\",\n",
        "                                                    class_mode='categorical',\n",
        "                                                    target_size=train_input_shape[0:2],\n",
        "                                                    batch_size=batch_size,\n",
        "                                                    subset=\"validation\",\n",
        "                                                    shuffle=True\n",
        "                                                   )\n",
        "\n",
        "STEP_SIZE_TRAIN = train_generator.n//train_generator.batch_size\n",
        "STEP_SIZE_VALID = valid_generator.n//valid_generator.batch_size\n",
        "print(\"Total number of batches =\", STEP_SIZE_TRAIN, \"and\", STEP_SIZE_VALID)"
      ],
      "metadata": {
        "colab": {
          "base_uri": "https://localhost:8080/"
        },
        "id": "HbSsVwm9iMYM",
        "outputId": "bb5e7937-0f1c-4327-f914-15a2822258c8"
      },
      "execution_count": null,
      "outputs": [
        {
          "output_type": "stream",
          "name": "stdout",
          "text": [
            "Found 974 images belonging to 3 classes.\n",
            "Found 272 images belonging to 3 classes.\n",
            "Total number of batches = 30 and 8\n"
          ]
        }
      ]
    },
    {
      "cell_type": "code",
      "source": [
        "base_model = ResNet50(weights='imagenet', include_top=False, input_shape=train_input_shape)\n",
        "\n",
        "for layer in base_model.layers:\n",
        "    layer.trainable = True\n",
        "    \n",
        "X = base_model.output\n",
        "X = Flatten()(X)\n",
        "\n",
        "X = Dense(512, kernel_initializer='he_uniform')(X)\n",
        "X = Dropout(0.4)(X)\n",
        "X = BatchNormalization()(X)\n",
        "X = Activation('relu')(X)\n",
        "\n",
        "X = Dense(128, kernel_initializer='he_uniform')(X)\n",
        "X = Dropout(0.4)(X)\n",
        "X = BatchNormalization()(X)\n",
        "X = Activation('relu')(X)\n",
        "\n",
        "X = Dense(16, kernel_initializer='he_uniform')(X)\n",
        "X = Dropout(0.4)(X)\n",
        "X = BatchNormalization()(X)\n",
        "X = Activation('relu')(X)\n",
        "\n",
        "output = Dense(n_classes, activation='softmax')(X)\n",
        "\n",
        "model = Model(inputs=base_model.input, outputs=output)"
      ],
      "metadata": {
        "colab": {
          "base_uri": "https://localhost:8080/"
        },
        "id": "31YniScJjgz6",
        "outputId": "e4af0143-2272-4e94-8181-f53dbba9d5bf"
      },
      "execution_count": null,
      "outputs": [
        {
          "output_type": "stream",
          "name": "stdout",
          "text": [
            "Downloading data from https://storage.googleapis.com/tensorflow/keras-applications/resnet/resnet50_weights_tf_dim_ordering_tf_kernels_notop.h5\n",
            "94773248/94765736 [==============================] - 1s 0us/step\n",
            "94781440/94765736 [==============================] - 1s 0us/step\n"
          ]
        }
      ]
    },
    {
      "cell_type": "code",
      "source": [
        "optimizer = Adam(lr=0.00001)\n",
        "model.compile(loss='categorical_crossentropy',\n",
        "              optimizer=optimizer, \n",
        "              metrics=['accuracy'])"
      ],
      "metadata": {
        "colab": {
          "base_uri": "https://localhost:8080/"
        },
        "id": "K3bHJfkhjg4i",
        "outputId": "c7ce30f6-3ea6-4c9c-df88-8d90fb017514"
      },
      "execution_count": null,
      "outputs": [
        {
          "output_type": "stream",
          "name": "stderr",
          "text": [
            "/usr/local/lib/python3.7/dist-packages/keras/optimizer_v2/adam.py:105: UserWarning: The `lr` argument is deprecated, use `learning_rate` instead.\n",
            "  super(Adam, self).__init__(name, **kwargs)\n"
          ]
        }
      ]
    },
    {
      "cell_type": "code",
      "source": [
        "n_epoch = 50\n",
        "\n",
        "early_stop = EarlyStopping(monitor='val_loss', patience=20, verbose=1, \n",
        "                           mode='auto', restore_best_weights=True)\n",
        "\n",
        "reduce_lr = ReduceLROnPlateau(monitor='val_loss', factor=0.1, patience=5, \n",
        "                              verbose=1, mode='auto')"
      ],
      "metadata": {
        "id": "Gv5Fwydojg7Y"
      },
      "execution_count": null,
      "outputs": []
    },
    {
      "cell_type": "code",
      "source": [
        "# Train the model - all layers\n",
        "history1 = model.fit_generator(generator=train_generator, steps_per_epoch=STEP_SIZE_TRAIN,\n",
        "                              validation_data=valid_generator, validation_steps=STEP_SIZE_VALID,\n",
        "                              epochs=n_epoch,\n",
        "                              shuffle=True,\n",
        "                              verbose=1,\n",
        "                              callbacks=[reduce_lr],\n",
        "                              use_multiprocessing=True,\n",
        "                              workers=4\n",
        "                             )"
      ],
      "metadata": {
        "colab": {
          "base_uri": "https://localhost:8080/"
        },
        "id": "L7-QHUQQjg9d",
        "outputId": "c0ed1a3c-d3b5-41a4-b04d-5fdf34bbb626"
      },
      "execution_count": null,
      "outputs": [
        {
          "output_type": "stream",
          "name": "stderr",
          "text": [
            "/usr/local/lib/python3.7/dist-packages/ipykernel_launcher.py:9: UserWarning: `Model.fit_generator` is deprecated and will be removed in a future version. Please use `Model.fit`, which supports generators.\n",
            "  if __name__ == '__main__':\n"
          ]
        },
        {
          "output_type": "stream",
          "name": "stdout",
          "text": [
            "Epoch 1/50\n",
            "30/30 [==============================] - 89s 2s/step - loss: 1.0535 - accuracy: 0.4703 - val_loss: 1.2998 - val_accuracy: 0.0820 - lr: 1.0000e-05\n",
            "Epoch 2/50\n",
            "30/30 [==============================] - 35s 1s/step - loss: 0.9244 - accuracy: 0.5403 - val_loss: 1.3261 - val_accuracy: 0.4727 - lr: 1.0000e-05\n",
            "Epoch 3/50\n",
            "30/30 [==============================] - 34s 1s/step - loss: 0.8681 - accuracy: 0.6157 - val_loss: 1.3193 - val_accuracy: 0.1992 - lr: 1.0000e-05\n",
            "Epoch 4/50\n",
            "30/30 [==============================] - 40s 1s/step - loss: 0.8259 - accuracy: 0.6645 - val_loss: 1.3819 - val_accuracy: 0.4766 - lr: 1.0000e-05\n",
            "Epoch 5/50\n",
            "30/30 [==============================] - 34s 1s/step - loss: 0.7875 - accuracy: 0.6826 - val_loss: 1.1937 - val_accuracy: 0.4844 - lr: 1.0000e-05\n",
            "Epoch 6/50\n",
            "30/30 [==============================] - 34s 1s/step - loss: 0.7757 - accuracy: 0.6879 - val_loss: 1.2690 - val_accuracy: 0.4727 - lr: 1.0000e-05\n",
            "Epoch 7/50\n",
            "30/30 [==============================] - 34s 1s/step - loss: 0.7507 - accuracy: 0.7346 - val_loss: 1.2569 - val_accuracy: 0.4883 - lr: 1.0000e-05\n",
            "Epoch 8/50\n",
            "30/30 [==============================] - 33s 1s/step - loss: 0.7313 - accuracy: 0.7410 - val_loss: 1.3198 - val_accuracy: 0.4844 - lr: 1.0000e-05\n",
            "Epoch 9/50\n",
            "30/30 [==============================] - 34s 1s/step - loss: 0.7287 - accuracy: 0.7463 - val_loss: 1.4966 - val_accuracy: 0.4805 - lr: 1.0000e-05\n",
            "Epoch 10/50\n",
            "30/30 [==============================] - ETA: 0s - loss: 0.7075 - accuracy: 0.7622\n",
            "Epoch 10: ReduceLROnPlateau reducing learning rate to 9.999999747378752e-07.\n",
            "30/30 [==============================] - 34s 1s/step - loss: 0.7075 - accuracy: 0.7622 - val_loss: 1.4469 - val_accuracy: 0.4844 - lr: 1.0000e-05\n",
            "Epoch 11/50\n",
            "30/30 [==============================] - 34s 1s/step - loss: 0.6901 - accuracy: 0.8015 - val_loss: 1.4091 - val_accuracy: 0.4727 - lr: 1.0000e-06\n",
            "Epoch 12/50\n",
            "30/30 [==============================] - 34s 1s/step - loss: 0.6953 - accuracy: 0.7803 - val_loss: 1.3857 - val_accuracy: 0.4648 - lr: 1.0000e-06\n",
            "Epoch 13/50\n",
            "30/30 [==============================] - 34s 1s/step - loss: 0.6701 - accuracy: 0.8025 - val_loss: 1.4048 - val_accuracy: 0.4727 - lr: 1.0000e-06\n",
            "Epoch 14/50\n",
            "30/30 [==============================] - 34s 1s/step - loss: 0.6879 - accuracy: 0.7885 - val_loss: 1.5050 - val_accuracy: 0.4648 - lr: 1.0000e-06\n",
            "Epoch 15/50\n",
            "30/30 [==============================] - ETA: 0s - loss: 0.7099 - accuracy: 0.7824\n",
            "Epoch 15: ReduceLROnPlateau reducing learning rate to 9.999999974752428e-08.\n",
            "30/30 [==============================] - 34s 1s/step - loss: 0.7099 - accuracy: 0.7824 - val_loss: 1.5377 - val_accuracy: 0.4805 - lr: 1.0000e-06\n",
            "Epoch 16/50\n",
            "30/30 [==============================] - 34s 1s/step - loss: 0.6893 - accuracy: 0.7845 - val_loss: 1.5789 - val_accuracy: 0.4727 - lr: 1.0000e-07\n",
            "Epoch 17/50\n",
            "30/30 [==============================] - 34s 1s/step - loss: 0.7130 - accuracy: 0.7516 - val_loss: 1.6829 - val_accuracy: 0.4688 - lr: 1.0000e-07\n",
            "Epoch 18/50\n",
            "30/30 [==============================] - 34s 1s/step - loss: 0.6836 - accuracy: 0.7824 - val_loss: 1.7065 - val_accuracy: 0.4805 - lr: 1.0000e-07\n",
            "Epoch 19/50\n",
            "30/30 [==============================] - 34s 1s/step - loss: 0.6715 - accuracy: 0.7972 - val_loss: 1.6447 - val_accuracy: 0.4766 - lr: 1.0000e-07\n",
            "Epoch 20/50\n",
            "30/30 [==============================] - ETA: 0s - loss: 0.6858 - accuracy: 0.7972\n",
            "Epoch 20: ReduceLROnPlateau reducing learning rate to 1.0000000116860975e-08.\n",
            "30/30 [==============================] - 34s 1s/step - loss: 0.6858 - accuracy: 0.7972 - val_loss: 1.5272 - val_accuracy: 0.4766 - lr: 1.0000e-07\n",
            "Epoch 21/50\n",
            "30/30 [==============================] - 34s 1s/step - loss: 0.6909 - accuracy: 0.7739 - val_loss: 1.4572 - val_accuracy: 0.4883 - lr: 1.0000e-08\n",
            "Epoch 22/50\n",
            "30/30 [==============================] - 34s 1s/step - loss: 0.6695 - accuracy: 0.8015 - val_loss: 1.3908 - val_accuracy: 0.4805 - lr: 1.0000e-08\n",
            "Epoch 23/50\n",
            "30/30 [==============================] - 34s 1s/step - loss: 0.6982 - accuracy: 0.7930 - val_loss: 1.2719 - val_accuracy: 0.4648 - lr: 1.0000e-08\n",
            "Epoch 24/50\n",
            "30/30 [==============================] - 34s 1s/step - loss: 0.6785 - accuracy: 0.7969 - val_loss: 1.2062 - val_accuracy: 0.4766 - lr: 1.0000e-08\n",
            "Epoch 25/50\n",
            "30/30 [==============================] - 34s 1s/step - loss: 0.6914 - accuracy: 0.7803 - val_loss: 1.1371 - val_accuracy: 0.4492 - lr: 1.0000e-08\n",
            "Epoch 26/50\n",
            "30/30 [==============================] - 34s 1s/step - loss: 0.6954 - accuracy: 0.7760 - val_loss: 1.1110 - val_accuracy: 0.4531 - lr: 1.0000e-08\n",
            "Epoch 27/50\n",
            "30/30 [==============================] - 34s 1s/step - loss: 0.6945 - accuracy: 0.7781 - val_loss: 1.0413 - val_accuracy: 0.4961 - lr: 1.0000e-08\n",
            "Epoch 28/50\n",
            "30/30 [==============================] - 34s 1s/step - loss: 0.6977 - accuracy: 0.7665 - val_loss: 0.9689 - val_accuracy: 0.5664 - lr: 1.0000e-08\n",
            "Epoch 29/50\n",
            "30/30 [==============================] - 34s 1s/step - loss: 0.6805 - accuracy: 0.7930 - val_loss: 0.9341 - val_accuracy: 0.6211 - lr: 1.0000e-08\n",
            "Epoch 30/50\n",
            "30/30 [==============================] - 34s 1s/step - loss: 0.6958 - accuracy: 0.7866 - val_loss: 0.8637 - val_accuracy: 0.6953 - lr: 1.0000e-08\n",
            "Epoch 31/50\n",
            "30/30 [==============================] - 34s 1s/step - loss: 0.6927 - accuracy: 0.7898 - val_loss: 0.8078 - val_accuracy: 0.7852 - lr: 1.0000e-08\n",
            "Epoch 32/50\n",
            "30/30 [==============================] - 34s 1s/step - loss: 0.7080 - accuracy: 0.7728 - val_loss: 0.8139 - val_accuracy: 0.7617 - lr: 1.0000e-08\n",
            "Epoch 33/50\n",
            "30/30 [==============================] - 34s 1s/step - loss: 0.6915 - accuracy: 0.7919 - val_loss: 0.7501 - val_accuracy: 0.8398 - lr: 1.0000e-08\n",
            "Epoch 34/50\n",
            "30/30 [==============================] - 34s 1s/step - loss: 0.7072 - accuracy: 0.7877 - val_loss: 0.7288 - val_accuracy: 0.8672 - lr: 1.0000e-08\n",
            "Epoch 35/50\n",
            "30/30 [==============================] - 34s 1s/step - loss: 0.6814 - accuracy: 0.8110 - val_loss: 0.7173 - val_accuracy: 0.8633 - lr: 1.0000e-08\n",
            "Epoch 36/50\n",
            "30/30 [==============================] - 34s 1s/step - loss: 0.6795 - accuracy: 0.8036 - val_loss: 0.6865 - val_accuracy: 0.8867 - lr: 1.0000e-08\n",
            "Epoch 37/50\n",
            "30/30 [==============================] - 34s 1s/step - loss: 0.6979 - accuracy: 0.7739 - val_loss: 0.6950 - val_accuracy: 0.8711 - lr: 1.0000e-08\n",
            "Epoch 38/50\n",
            "30/30 [==============================] - 34s 1s/step - loss: 0.6692 - accuracy: 0.8174 - val_loss: 0.6763 - val_accuracy: 0.8828 - lr: 1.0000e-08\n",
            "Epoch 39/50\n",
            "30/30 [==============================] - 34s 1s/step - loss: 0.6953 - accuracy: 0.7898 - val_loss: 0.6819 - val_accuracy: 0.9023 - lr: 1.0000e-08\n",
            "Epoch 40/50\n",
            "30/30 [==============================] - 34s 1s/step - loss: 0.6803 - accuracy: 0.7898 - val_loss: 0.6781 - val_accuracy: 0.9141 - lr: 1.0000e-08\n",
            "Epoch 41/50\n",
            "30/30 [==============================] - 34s 1s/step - loss: 0.7105 - accuracy: 0.7877 - val_loss: 0.7038 - val_accuracy: 0.8906 - lr: 1.0000e-08\n",
            "Epoch 42/50\n",
            "30/30 [==============================] - 34s 1s/step - loss: 0.6801 - accuracy: 0.7866 - val_loss: 0.6787 - val_accuracy: 0.8867 - lr: 1.0000e-08\n",
            "Epoch 43/50\n",
            "30/30 [==============================] - 34s 1s/step - loss: 0.6879 - accuracy: 0.7919 - val_loss: 0.6751 - val_accuracy: 0.9062 - lr: 1.0000e-08\n",
            "Epoch 44/50\n",
            "30/30 [==============================] - 34s 1s/step - loss: 0.6904 - accuracy: 0.7887 - val_loss: 0.6674 - val_accuracy: 0.9141 - lr: 1.0000e-08\n",
            "Epoch 45/50\n",
            "30/30 [==============================] - 34s 1s/step - loss: 0.6873 - accuracy: 0.8068 - val_loss: 0.6993 - val_accuracy: 0.8828 - lr: 1.0000e-08\n",
            "Epoch 46/50\n",
            "30/30 [==============================] - 34s 1s/step - loss: 0.6919 - accuracy: 0.7941 - val_loss: 0.6848 - val_accuracy: 0.8945 - lr: 1.0000e-08\n",
            "Epoch 47/50\n",
            "30/30 [==============================] - 34s 1s/step - loss: 0.7026 - accuracy: 0.7643 - val_loss: 0.6674 - val_accuracy: 0.9102 - lr: 1.0000e-08\n",
            "Epoch 48/50\n",
            "30/30 [==============================] - 34s 1s/step - loss: 0.6971 - accuracy: 0.7856 - val_loss: 0.6679 - val_accuracy: 0.8828 - lr: 1.0000e-08\n",
            "Epoch 49/50\n",
            "30/30 [==============================] - ETA: 0s - loss: 0.6828 - accuracy: 0.8015\n",
            "Epoch 49: ReduceLROnPlateau reducing learning rate to 9.999999939225292e-10.\n",
            "30/30 [==============================] - 34s 1s/step - loss: 0.6828 - accuracy: 0.8015 - val_loss: 0.6796 - val_accuracy: 0.9023 - lr: 1.0000e-08\n",
            "Epoch 50/50\n",
            "30/30 [==============================] - 34s 1s/step - loss: 0.6874 - accuracy: 0.7887 - val_loss: 0.6511 - val_accuracy: 0.9258 - lr: 1.0000e-09\n"
          ]
        }
      ]
    },
    {
      "cell_type": "code",
      "source": [
        "# Freeze core ResNet layers and train again \n",
        "for layer in model.layers[-6:]:\n",
        "   layer.trainable = False\n",
        "\n",
        "for layer in model.layers:\n",
        "    layer.trainable = True\n",
        "\n",
        "optimizer = Adam(lr=0.00001)\n",
        "\n",
        "model.compile(loss='categorical_crossentropy',\n",
        "              optimizer=optimizer, \n",
        "              metrics=['accuracy'])\n",
        "\n",
        "n_epoch = 50\n",
        "history2 = model.fit_generator(generator=train_generator, steps_per_epoch=STEP_SIZE_TRAIN,\n",
        "                              validation_data=valid_generator, validation_steps=STEP_SIZE_VALID,\n",
        "                              epochs=n_epoch,\n",
        "                              shuffle=True,\n",
        "                              verbose=1,\n",
        "                              callbacks=[reduce_lr, early_stop],\n",
        "                              use_multiprocessing=True,\n",
        "                              workers=4                             \n",
        "                              )"
      ],
      "metadata": {
        "colab": {
          "base_uri": "https://localhost:8080/"
        },
        "id": "Haeuva4pjg_2",
        "outputId": "1e2822cd-9619-4822-c727-2f1977d65e78"
      },
      "execution_count": null,
      "outputs": [
        {
          "output_type": "stream",
          "name": "stderr",
          "text": [
            "/usr/local/lib/python3.7/dist-packages/keras/optimizer_v2/adam.py:105: UserWarning: The `lr` argument is deprecated, use `learning_rate` instead.\n",
            "  super(Adam, self).__init__(name, **kwargs)\n",
            "/usr/local/lib/python3.7/dist-packages/ipykernel_launcher.py:22: UserWarning: `Model.fit_generator` is deprecated and will be removed in a future version. Please use `Model.fit`, which supports generators.\n"
          ]
        },
        {
          "output_type": "stream",
          "name": "stdout",
          "text": [
            "Epoch 1/50\n",
            "30/30 [==============================] - 44s 1s/step - loss: 0.6896 - accuracy: 0.7856 - val_loss: 0.7074 - val_accuracy: 0.8594 - lr: 1.0000e-05\n",
            "Epoch 2/50\n",
            "30/30 [==============================] - 34s 1s/step - loss: 0.6689 - accuracy: 0.8355 - val_loss: 0.6500 - val_accuracy: 0.9141 - lr: 1.0000e-05\n",
            "Epoch 3/50\n",
            "30/30 [==============================] - 34s 1s/step - loss: 0.6572 - accuracy: 0.8270 - val_loss: 0.6364 - val_accuracy: 0.9453 - lr: 1.0000e-05\n",
            "Epoch 4/50\n",
            "30/30 [==============================] - 35s 1s/step - loss: 0.6631 - accuracy: 0.8291 - val_loss: 0.6064 - val_accuracy: 0.9375 - lr: 1.0000e-05\n",
            "Epoch 5/50\n",
            "30/30 [==============================] - 35s 1s/step - loss: 0.6511 - accuracy: 0.8248 - val_loss: 0.5854 - val_accuracy: 0.9375 - lr: 1.0000e-05\n",
            "Epoch 6/50\n",
            "30/30 [==============================] - 34s 1s/step - loss: 0.6407 - accuracy: 0.8429 - val_loss: 0.5485 - val_accuracy: 0.9570 - lr: 1.0000e-05\n",
            "Epoch 7/50\n",
            "30/30 [==============================] - 35s 1s/step - loss: 0.6230 - accuracy: 0.8514 - val_loss: 0.5458 - val_accuracy: 0.9648 - lr: 1.0000e-05\n",
            "Epoch 8/50\n",
            "30/30 [==============================] - 34s 1s/step - loss: 0.6413 - accuracy: 0.8344 - val_loss: 0.5239 - val_accuracy: 0.9492 - lr: 1.0000e-05\n",
            "Epoch 9/50\n",
            "30/30 [==============================] - 34s 1s/step - loss: 0.6119 - accuracy: 0.8822 - val_loss: 0.5396 - val_accuracy: 0.9609 - lr: 1.0000e-05\n",
            "Epoch 10/50\n",
            "30/30 [==============================] - 35s 1s/step - loss: 0.6167 - accuracy: 0.8705 - val_loss: 0.5168 - val_accuracy: 0.9766 - lr: 1.0000e-05\n",
            "Epoch 11/50\n",
            "30/30 [==============================] - 34s 1s/step - loss: 0.5914 - accuracy: 0.8832 - val_loss: 0.5272 - val_accuracy: 0.9648 - lr: 1.0000e-05\n",
            "Epoch 12/50\n",
            "30/30 [==============================] - 34s 1s/step - loss: 0.6064 - accuracy: 0.8822 - val_loss: 0.5201 - val_accuracy: 0.9570 - lr: 1.0000e-05\n",
            "Epoch 13/50\n",
            "30/30 [==============================] - 35s 1s/step - loss: 0.5840 - accuracy: 0.9034 - val_loss: 0.5151 - val_accuracy: 0.9570 - lr: 1.0000e-05\n",
            "Epoch 14/50\n",
            "30/30 [==============================] - 35s 1s/step - loss: 0.5834 - accuracy: 0.9076 - val_loss: 0.5008 - val_accuracy: 0.9688 - lr: 1.0000e-05\n",
            "Epoch 15/50\n",
            "30/30 [==============================] - 35s 1s/step - loss: 0.5871 - accuracy: 0.8822 - val_loss: 0.4795 - val_accuracy: 0.9766 - lr: 1.0000e-05\n",
            "Epoch 16/50\n",
            "30/30 [==============================] - 40s 1s/step - loss: 0.5655 - accuracy: 0.9140 - val_loss: 0.4708 - val_accuracy: 0.9688 - lr: 1.0000e-05\n",
            "Epoch 17/50\n",
            "30/30 [==============================] - 35s 1s/step - loss: 0.5860 - accuracy: 0.8781 - val_loss: 0.4447 - val_accuracy: 0.9688 - lr: 1.0000e-05\n",
            "Epoch 18/50\n",
            "30/30 [==============================] - 34s 1s/step - loss: 0.5729 - accuracy: 0.9055 - val_loss: 0.4598 - val_accuracy: 0.9570 - lr: 1.0000e-05\n",
            "Epoch 19/50\n",
            "30/30 [==============================] - 34s 1s/step - loss: 0.5606 - accuracy: 0.9151 - val_loss: 0.4603 - val_accuracy: 0.9609 - lr: 1.0000e-05\n",
            "Epoch 20/50\n",
            "30/30 [==============================] - 35s 1s/step - loss: 0.5809 - accuracy: 0.9002 - val_loss: 0.4405 - val_accuracy: 0.9609 - lr: 1.0000e-05\n",
            "Epoch 21/50\n",
            "30/30 [==============================] - 35s 1s/step - loss: 0.5504 - accuracy: 0.9257 - val_loss: 0.4304 - val_accuracy: 0.9766 - lr: 1.0000e-05\n",
            "Epoch 22/50\n",
            "30/30 [==============================] - 34s 1s/step - loss: 0.5549 - accuracy: 0.9225 - val_loss: 0.4505 - val_accuracy: 0.9766 - lr: 1.0000e-05\n",
            "Epoch 23/50\n",
            "30/30 [==============================] - 34s 1s/step - loss: 0.5548 - accuracy: 0.9204 - val_loss: 0.4576 - val_accuracy: 0.9688 - lr: 1.0000e-05\n",
            "Epoch 24/50\n",
            "30/30 [==============================] - 35s 1s/step - loss: 0.5447 - accuracy: 0.9108 - val_loss: 0.4036 - val_accuracy: 0.9805 - lr: 1.0000e-05\n",
            "Epoch 25/50\n",
            "30/30 [==============================] - 34s 1s/step - loss: 0.5326 - accuracy: 0.9310 - val_loss: 0.4044 - val_accuracy: 0.9727 - lr: 1.0000e-05\n",
            "Epoch 26/50\n",
            "30/30 [==============================] - 34s 1s/step - loss: 0.5450 - accuracy: 0.9257 - val_loss: 0.3794 - val_accuracy: 0.9844 - lr: 1.0000e-05\n",
            "Epoch 27/50\n",
            "30/30 [==============================] - 34s 1s/step - loss: 0.5272 - accuracy: 0.9416 - val_loss: 0.3925 - val_accuracy: 0.9766 - lr: 1.0000e-05\n",
            "Epoch 28/50\n",
            "30/30 [==============================] - 34s 1s/step - loss: 0.5384 - accuracy: 0.9172 - val_loss: 0.3944 - val_accuracy: 0.9805 - lr: 1.0000e-05\n",
            "Epoch 29/50\n",
            "30/30 [==============================] - 34s 1s/step - loss: 0.5140 - accuracy: 0.9501 - val_loss: 0.3820 - val_accuracy: 0.9766 - lr: 1.0000e-05\n",
            "Epoch 30/50\n",
            "30/30 [==============================] - 34s 1s/step - loss: 0.5213 - accuracy: 0.9363 - val_loss: 0.4067 - val_accuracy: 0.9648 - lr: 1.0000e-05\n",
            "Epoch 31/50\n",
            "30/30 [==============================] - ETA: 0s - loss: 0.5131 - accuracy: 0.9459\n",
            "Epoch 31: ReduceLROnPlateau reducing learning rate to 9.999999747378752e-07.\n",
            "30/30 [==============================] - 34s 1s/step - loss: 0.5131 - accuracy: 0.9459 - val_loss: 0.4009 - val_accuracy: 0.9805 - lr: 1.0000e-05\n",
            "Epoch 32/50\n",
            "30/30 [==============================] - 34s 1s/step - loss: 0.5018 - accuracy: 0.9469 - val_loss: 0.3981 - val_accuracy: 0.9766 - lr: 1.0000e-06\n",
            "Epoch 33/50\n",
            "30/30 [==============================] - 34s 1s/step - loss: 0.5033 - accuracy: 0.9533 - val_loss: 0.3957 - val_accuracy: 0.9727 - lr: 1.0000e-06\n",
            "Epoch 34/50\n",
            "30/30 [==============================] - 34s 1s/step - loss: 0.5080 - accuracy: 0.9406 - val_loss: 0.4156 - val_accuracy: 0.9688 - lr: 1.0000e-06\n",
            "Epoch 35/50\n",
            "30/30 [==============================] - 34s 1s/step - loss: 0.5238 - accuracy: 0.9321 - val_loss: 0.4092 - val_accuracy: 0.9805 - lr: 1.0000e-06\n",
            "Epoch 36/50\n",
            "30/30 [==============================] - ETA: 0s - loss: 0.5040 - accuracy: 0.9586\n",
            "Epoch 36: ReduceLROnPlateau reducing learning rate to 9.999999974752428e-08.\n",
            "30/30 [==============================] - 34s 1s/step - loss: 0.5040 - accuracy: 0.9586 - val_loss: 0.4065 - val_accuracy: 0.9688 - lr: 1.0000e-06\n",
            "Epoch 37/50\n",
            "30/30 [==============================] - 35s 1s/step - loss: 0.5311 - accuracy: 0.9257 - val_loss: 0.3716 - val_accuracy: 0.9688 - lr: 1.0000e-07\n",
            "Epoch 38/50\n",
            "30/30 [==============================] - 39s 1s/step - loss: 0.4996 - accuracy: 0.9469 - val_loss: 0.3952 - val_accuracy: 0.9883 - lr: 1.0000e-07\n",
            "Epoch 39/50\n",
            "30/30 [==============================] - 34s 1s/step - loss: 0.5127 - accuracy: 0.9416 - val_loss: 0.4175 - val_accuracy: 0.9727 - lr: 1.0000e-07\n",
            "Epoch 40/50\n",
            "30/30 [==============================] - 34s 1s/step - loss: 0.5201 - accuracy: 0.9331 - val_loss: 0.3969 - val_accuracy: 0.9688 - lr: 1.0000e-07\n",
            "Epoch 41/50\n",
            "30/30 [==============================] - 34s 1s/step - loss: 0.5030 - accuracy: 0.9512 - val_loss: 0.4191 - val_accuracy: 0.9805 - lr: 1.0000e-07\n",
            "Epoch 42/50\n",
            "30/30 [==============================] - ETA: 0s - loss: 0.5131 - accuracy: 0.9395\n",
            "Epoch 42: ReduceLROnPlateau reducing learning rate to 1.0000000116860975e-08.\n",
            "30/30 [==============================] - 39s 1s/step - loss: 0.5131 - accuracy: 0.9395 - val_loss: 0.4083 - val_accuracy: 0.9688 - lr: 1.0000e-07\n",
            "Epoch 43/50\n",
            "30/30 [==============================] - 39s 1s/step - loss: 0.5263 - accuracy: 0.9363 - val_loss: 0.4029 - val_accuracy: 0.9805 - lr: 1.0000e-08\n",
            "Epoch 44/50\n",
            "30/30 [==============================] - 34s 1s/step - loss: 0.5257 - accuracy: 0.9310 - val_loss: 0.3940 - val_accuracy: 0.9805 - lr: 1.0000e-08\n",
            "Epoch 45/50\n",
            "30/30 [==============================] - 34s 1s/step - loss: 0.5359 - accuracy: 0.9321 - val_loss: 0.4042 - val_accuracy: 0.9727 - lr: 1.0000e-08\n",
            "Epoch 46/50\n",
            "30/30 [==============================] - 34s 1s/step - loss: 0.5127 - accuracy: 0.9416 - val_loss: 0.4162 - val_accuracy: 0.9727 - lr: 1.0000e-08\n",
            "Epoch 47/50\n",
            "30/30 [==============================] - ETA: 0s - loss: 0.5165 - accuracy: 0.9406\n",
            "Epoch 47: ReduceLROnPlateau reducing learning rate to 9.999999939225292e-10.\n",
            "30/30 [==============================] - 34s 1s/step - loss: 0.5165 - accuracy: 0.9406 - val_loss: 0.4209 - val_accuracy: 0.9688 - lr: 1.0000e-08\n",
            "Epoch 48/50\n",
            "30/30 [==============================] - 34s 1s/step - loss: 0.5159 - accuracy: 0.9331 - val_loss: 0.4059 - val_accuracy: 0.9648 - lr: 1.0000e-09\n",
            "Epoch 49/50\n",
            "30/30 [==============================] - 34s 1s/step - loss: 0.5132 - accuracy: 0.9448 - val_loss: 0.3936 - val_accuracy: 0.9727 - lr: 1.0000e-09\n",
            "Epoch 50/50\n",
            "30/30 [==============================] - 35s 1s/step - loss: 0.5111 - accuracy: 0.9437 - val_loss: 0.4013 - val_accuracy: 0.9688 - lr: 1.0000e-09\n"
          ]
        }
      ]
    },
    {
      "cell_type": "code",
      "source": [
        "# Merge history1 and history2\n",
        "history = {}\n",
        "history['loss'] = history1.history['loss'] + history2.history['loss']\n",
        "history['acc'] = history1.history['accuracy'] + history2.history['accuracy']\n",
        "history['val_loss'] = history1.history['val_loss'] + history2.history['val_loss']\n",
        "history['val_acc'] = history1.history['val_accuracy'] + history2.history['val_accuracy']\n",
        "history['lr'] = history1.history['lr'] + history2.history['lr']"
      ],
      "metadata": {
        "id": "yCH-7ELxj6IL"
      },
      "execution_count": null,
      "outputs": []
    },
    {
      "cell_type": "code",
      "source": [
        "import matplotlib.pyplot as plt\n",
        "def plot_training(history):\n",
        "    acc = history['acc']\n",
        "    val_acc = history['val_acc']\n",
        "    loss = history['loss']\n",
        "    val_loss = history['val_loss']\n",
        "    epochs = range(len(acc))\n",
        "\n",
        "    fig, axes = plt.subplots(1, 2, figsize=(15,5))\n",
        "    \n",
        "    axes[0].plot(epochs, acc, 'r-', label='Training Accuracy')\n",
        "    axes[0].plot(epochs, val_acc, 'b--', label='Validation Accuracy')\n",
        "    axes[0].set_title('Training and Validation Accuracy')\n",
        "    axes[0].legend(loc='best')\n",
        "\n",
        "    axes[1].plot(epochs, loss, 'r-', label='Training Loss')\n",
        "    axes[1].plot(epochs, val_loss, 'b--', label='Validation Loss')\n",
        "    axes[1].set_title('Training and Validation Loss')\n",
        "    axes[1].legend(loc='best')\n",
        "    \n",
        "    plt.show()\n",
        "    \n",
        "plot_training(history)"
      ],
      "metadata": {
        "colab": {
          "base_uri": "https://localhost:8080/",
          "height": 336
        },
        "id": "jIQITWirj8Yx",
        "outputId": "f9ce0308-5457-4c15-d27c-7f2790f32899"
      },
      "execution_count": null,
      "outputs": [
        {
          "output_type": "display_data",
          "data": {
            "text/plain": [
              "<Figure size 1080x360 with 2 Axes>"
            ],
            "image/png": "[encoded data removed]"
          },
          "metadata": {
            "needs_background": "light"
          }
        }
      ]
    },
    {
      "cell_type": "code",
      "source": [
        "# Prediction accuracy on train data\n",
        "score = model.evaluate_generator(train_generator)\n",
        "print(\"Prediction accuracy on train data =\", score[1])"
      ],
      "metadata": {
        "colab": {
          "base_uri": "https://localhost:8080/"
        },
        "id": "Ekuvz889j_uR",
        "outputId": "e8683713-c3c4-41dd-896a-ff138550f5ff"
      },
      "execution_count": null,
      "outputs": [
        {
          "output_type": "stream",
          "name": "stderr",
          "text": [
            "/usr/local/lib/python3.7/dist-packages/ipykernel_launcher.py:2: UserWarning: `Model.evaluate_generator` is deprecated and will be removed in a future version. Please use `Model.evaluate`, which supports generators.\n",
            "  \n"
          ]
        },
        {
          "output_type": "stream",
          "name": "stdout",
          "text": [
            "Prediction accuracy on train data = 0.9989733099937439\n"
          ]
        }
      ]
    },
    {
      "cell_type": "code",
      "source": [
        "# Prediction accuracy on test data\n",
        "score = model.evaluate_generator(valid_generator)\n",
        "print(\"Prediction accuracy on test data =\", score[1])"
      ],
      "metadata": {
        "colab": {
          "base_uri": "https://localhost:8080/"
        },
        "id": "eAQ-YxdqkAXI",
        "outputId": "25b75564-b4d8-484f-8db4-a3769a80ea76"
      },
      "execution_count": null,
      "outputs": [
        {
          "output_type": "stream",
          "name": "stderr",
          "text": [
            "/usr/local/lib/python3.7/dist-packages/ipykernel_launcher.py:2: UserWarning: `Model.evaluate_generator` is deprecated and will be removed in a future version. Please use `Model.evaluate`, which supports generators.\n",
            "  \n"
          ]
        },
        {
          "output_type": "stream",
          "name": "stdout",
          "text": [
            "Prediction accuracy on test data = 0.9742646813392639\n"
          ]
        }
      ]
    },
    {
      "cell_type": "code",
      "source": [
        "from sklearn.metrics import *\n",
        "import seaborn as sns\n",
        "\n",
        "\n",
        "\n",
        "def showClassficationReport_Generator(model, valid_generator, STEP_SIZE_VALID):\n",
        "    # Loop on each generator batch and predict\n",
        "    y_pred, y_true = [], []\n",
        "    for i in range(STEP_SIZE_VALID):\n",
        "        (X,y) = next(valid_generator)\n",
        "        y_pred.append(model.predict(X))\n",
        "        y_true.append(y)\n",
        "    \n",
        "    # Create a flat list for y_true and y_pred\n",
        "    y_pred = [subresult for result in y_pred for subresult in result]\n",
        "    y_true = [subresult for result in y_true for subresult in result]\n",
        "    \n",
        "    # Update Truth vector based on argmax\n",
        "    y_true = np.argmax(y_true, axis=1)\n",
        "    y_true = np.asarray(y_true).ravel()\n",
        "    \n",
        "    # Update Prediction vector based on argmax\n",
        "    y_pred = np.argmax(y_pred, axis=1)\n",
        "    y_pred = np.asarray(y_pred).ravel()\n",
        "    \n",
        "    # Confusion Matrix\n",
        "    fig, ax = plt.subplots(figsize=(10,10))\n",
        "    conf_matrix = confusion_matrix(y_true, y_pred, labels=np.arange(n_classes))\n",
        "    conf_matrix = conf_matrix/np.sum(conf_matrix, axis=1)\n",
        "    sns.heatmap(conf_matrix, annot=True, fmt=\".2f\", square=True, cbar=False, \n",
        "                cmap=plt.cm.jet,\n",
        "                ax=ax)\n",
        "    ax.set_ylabel('Actual')\n",
        "    ax.set_xlabel('Predicted')\n",
        "    ax.set_title('Confusion Matrix')\n",
        "    plt.show()\n",
        "    \n",
        "    print('Classification Report:')\n",
        "    print(classification_report(y_true, y_pred, labels=np.arange(n_classes)))\n",
        "\n",
        "\n",
        "showClassficationReport_Generator(model, valid_generator, STEP_SIZE_VALID)"
      ],
      "metadata": {
        "colab": {
          "base_uri": "https://localhost:8080/",
          "height": 812
        },
        "id": "uGfNzxXNkFRY",
        "outputId": "fad4c64f-8d09-4002-deba-f2acf6a1219e"
      },
      "execution_count": null,
      "outputs": [
        {
          "output_type": "display_data",
          "data": {
            "text/plain": [
              "<Figure size 720x720 with 1 Axes>"
            ],
            "image/png": "[encoded data removed]"
          },
          "metadata": {
            "needs_background": "light"
          }
        },
        {
          "output_type": "stream",
          "name": "stdout",
          "text": [
            "Classification Report:\n",
            "              precision    recall  f1-score   support\n",
            "\n",
            "           0       0.98      1.00      0.99       122\n",
            "           1       1.00      0.95      0.97       116\n",
            "           2       0.86      1.00      0.92        18\n",
            "\n",
            "    accuracy                           0.98       256\n",
            "   macro avg       0.94      0.98      0.96       256\n",
            "weighted avg       0.98      0.98      0.98       256\n",
            "\n"
          ]
        }
      ]
    },
    {
      "cell_type": "code",
      "source": [
        "model.save(\"ResnetNet_dl_potato.h5\")"
      ],
      "metadata": {
        "id": "7K8oahuikIbI"
      },
      "execution_count": null,
      "outputs": []
    },
    {
      "cell_type": "code",
      "source": [
        "from google.colab import files\n",
        "files.download('/content/ResnetNet_dl_potato.h5')"
      ],
      "metadata": {
        "colab": {
          "base_uri": "https://localhost:8080/",
          "height": 34
        },
        "id": "9K98ESqmzQQD",
        "outputId": "2034bbd2-67de-4298-aeb5-1a11629f0159"
      },
      "execution_count": null,
      "outputs": [
        {
          "output_type": "display_data",
          "data": {
            "text/plain": [
              "<IPython.core.display.Javascript object>"
            ],
            "application/javascript": [
              "\n",
              "    async function download(id, filename, size) {\n",
              "      if (!google.colab.kernel.accessAllowed) {\n",
              "        return;\n",
              "      }\n",
              "      const div = document.createElement('div');\n",
              "      const label = document.createElement('label');\n",
              "      label.textContent = `Downloading \"${filename}\": `;\n",
              "      div.appendChild(label);\n",
              "      const progress = document.createElement('progress');\n",
              "      progress.max = size;\n",
              "      div.appendChild(progress);\n",
              "      document.body.appendChild(div);\n",
              "\n",
              "      const buffers = [];\n",
              "      let downloaded = 0;\n",
              "\n",
              "      const channel = await google.colab.kernel.comms.open(id);\n",
              "      // Send a message to notify the kernel that we're ready.\n",
              "      channel.send({})\n",
              "\n",
              "      for await (const message of channel.messages) {\n",
              "        // Send a message to notify the kernel that we're ready.\n",
              "        channel.send({})\n",
              "        if (message.buffers) {\n",
              "          for (const buffer of message.buffers) {\n",
              "            buffers.push(buffer);\n",
              "            downloaded += buffer.byteLength;\n",
              "            progress.value = downloaded;\n",
              "          }\n",
              "        }\n",
              "      }\n",
              "      const blob = new Blob(buffers, {type: 'application/binary'});\n",
              "      const a = document.createElement('a');\n",
              "      a.href = window.URL.createObjectURL(blob);\n",
              "      a.download = filename;\n",
              "      div.appendChild(a);\n",
              "      a.click();\n",
              "      div.remove();\n",
              "    }\n",
              "  "
            ]
          },
          "metadata": {}
        },
        {
          "output_type": "display_data",
          "data": {
            "text/plain": [
              "<IPython.core.display.Javascript object>"
            ],
            "application/javascript": [
              "download(\"download_9840ed86-94bb-4c42-b65d-5a8e7649e4b5\", \"ResnetNet_dl_potato.h5\", 1089858952)"
            ]
          },
          "metadata": {}
        }
      ]
    }
  ]
}